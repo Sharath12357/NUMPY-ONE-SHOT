{
 "cells": [
  {
   "cell_type": "markdown",
   "id": "e6cfc931-6892-44fc-98c9-d63108c3765c",
   "metadata": {},
   "source": [
    "__NUMPY__\n",
    "\n",
    "Table of contents\n",
    "\n",
    "1. Converting a List to an array\r\n",
    "2. Arange Function\r\n",
    "3. Multidimensional Array\r\n",
    "4. Size Function\r\n",
    "5. Shape Function\r\n",
    "6. Dtype Function\r\n",
    "7. Ndim Function\r\n",
    "8. Zeros and Ones Function\r\n",
    "9. Eye Function\r\n",
    "10. Empty Function\r\n",
    "11. Random Functions:\r\n",
    "-----a) np.random.rand\r\n",
    "-----b) np.random.randint\r\n",
    "-----c) np.random.randn\r\n",
    "12. Reshape function\r\n",
    "13. Linspace Function\r\n",
    "14. Flatten Function\r\n",
    "15. Logspace Function\r\n",
    "16. Copy Function\r\n",
    "17. arr.max() , arr.min() , arr.sum() functions\r\n",
    "18. Seed function\r\n",
    "19. Sorting in numpy array\r\n",
    "20. Mathematical Operation in Numpy\r\n",
    "-----a) Addition\r\n",
    "-----b) Substraction\r\n",
    "-----c) Multiplication\r\n",
    "-----d) Division\r\n",
    "-----e) Matrix Multiplication\r\n",
    "-----f) Power\r\n",
    "21. Percentile Function\r\n",
    "22. Mean, Variance and Standard Deviation\r\n",
    "23. Filtering an numpy array\r\n",
    "24. Transposing an array\r\n",
    "25. Where function\r\n",
    "26. Merging Arrays\r\n",
    "-----a) Using Concatenate\r\n",
    "-----b) Using vstack and hstack\r\n",
    "27. Splitting Arrays\r\n",
    "28. Turning Pictures into Numpy arrays"
   ]
  },
  {
   "cell_type": "code",
   "execution_count": 2,
   "id": "6a27ab63-1cef-4a37-adec-0ef88e5d8659",
   "metadata": {},
   "outputs": [],
   "source": [
    "import numpy as np"
   ]
  },
  {
   "cell_type": "markdown",
   "id": "a80c4a40-fe66-4db3-ae12-840cef5b9df6",
   "metadata": {},
   "source": [
    "1. converting a list to Array"
   ]
  },
  {
   "cell_type": "code",
   "execution_count": 10,
   "id": "1795af6e-3207-4b16-885a-dcb1fc100926",
   "metadata": {},
   "outputs": [
    {
     "name": "stdout",
     "output_type": "stream",
     "text": [
      "<class 'list'>\n",
      "<class 'numpy.ndarray'>\n",
      "[[1 2 3 4]]\n"
     ]
    }
   ],
   "source": [
    "lst=[1,2,3,4]\n",
    "print(type(lst))\n",
    "arr=np.array(lst)\n",
    "print(type(arr))\n",
    "arr=np.array(lst,ndmin=2)\n",
    "print(arr)"
   ]
  },
  {
   "cell_type": "markdown",
   "id": "1f4d716f-5c2a-49b3-bc9b-730ecb0aee21",
   "metadata": {},
   "source": [
    "2.Arrange function"
   ]
  },
  {
   "cell_type": "markdown",
   "id": "33ea6e00-e0ce-49be-9db0-d563fcb00790",
   "metadata": {},
   "source": [
    "The arange([start,] stop[, step,][, dtype]) : Returns an array with evenly spaced elements as per the interval. The interval mentioned is half-opened i.e. [Start, Stop) "
   ]
  },
  {
   "cell_type": "code",
   "execution_count": 13,
   "id": "df42dead-e3c4-49bf-b227-90e3b0958908",
   "metadata": {},
   "outputs": [],
   "source": []
  },
  {
   "cell_type": "code",
   "execution_count": 17,
   "id": "05008301-c0d2-4830-923f-0b721fb21915",
   "metadata": {},
   "outputs": [
    {
     "data": {
      "text/plain": [
       "array([1, 3, 5, 7, 9])"
      ]
     },
     "execution_count": 17,
     "metadata": {},
     "output_type": "execute_result"
    }
   ],
   "source": [
    "arnp.arange(1,10,2)"
   ]
  },
  {
   "cell_type": "markdown",
   "id": "16253916-b609-4012-ae0a-cb004d7be981",
   "metadata": {},
   "source": [
    "3) Multidimensional Array"
   ]
  },
  {
   "cell_type": "code",
   "execution_count": 22,
   "id": "9ad398f8-dea1-46e0-ad8a-a91598da6791",
   "metadata": {},
   "outputs": [],
   "source": [
    "arr=np.array([[1,2,3],[4,5,6],[7,8,9]])"
   ]
  },
  {
   "cell_type": "code",
   "execution_count": 23,
   "id": "5633fea3-d2a6-4f89-9ee5-1314fd7c6043",
   "metadata": {},
   "outputs": [
    {
     "data": {
      "text/plain": [
       "array([[1, 2, 3],\n",
       "       [4, 5, 6],\n",
       "       [7, 8, 9]])"
      ]
     },
     "execution_count": 23,
     "metadata": {},
     "output_type": "execute_result"
    }
   ],
   "source": [
    "arr"
   ]
  },
  {
   "cell_type": "markdown",
   "id": "86258f96-1931-4fa5-90e6-457606f4fcb5",
   "metadata": {},
   "source": [
    "4) Size of function"
   ]
  },
  {
   "cell_type": "code",
   "execution_count": 25,
   "id": "976402d2-27dd-4e5b-b5f3-5617d36587fa",
   "metadata": {},
   "outputs": [
    {
     "name": "stdout",
     "output_type": "stream",
     "text": [
      "9\n"
     ]
    }
   ],
   "source": [
    "arr=np.array([[1,2,3],[4,5,6],[7,8,9]])\n",
    "print(arr.size)"
   ]
  },
  {
   "cell_type": "code",
   "execution_count": 27,
   "id": "f412f586-9a9f-44d4-bd1f-88c2304be92c",
   "metadata": {},
   "outputs": [
    {
     "name": "stdout",
     "output_type": "stream",
     "text": [
      "total: 9\n",
      "Rows : 3\n",
      "colomns : 9\n"
     ]
    }
   ],
   "source": [
    "print('total:',arr.size)\n",
    "print('Rows :',np.size(arr,0))\n",
    "print('colomns :',arr.size)"
   ]
  },
  {
   "cell_type": "markdown",
   "id": "a91da065-8fa7-48f2-9d09-ac5cbb142170",
   "metadata": {},
   "source": [
    "5) Shape Function\n",
    "\n",
    "The shape of an array can be defined as the number of elements in each dimension. Dimension is the number of indices or subscripts, that we require in order to specify an individual element of an array.\n"
   ]
  },
  {
   "cell_type": "code",
   "execution_count": 30,
   "id": "2c1c8d12-3bbb-4ec5-b0fd-694bd7854995",
   "metadata": {},
   "outputs": [
    {
     "name": "stdout",
     "output_type": "stream",
     "text": [
      "(3, 3)\n"
     ]
    }
   ],
   "source": [
    "arr=np.array([[1,2,3],[4,5,6],[7,8,9]])\n",
    "\n",
    "print((np.size(arr,0),np.size(arr,1)))"
   ]
  },
  {
   "cell_type": "code",
   "execution_count": 32,
   "id": "25a6ea5b-b2bf-401f-801a-3bf0db07284b",
   "metadata": {},
   "outputs": [
    {
     "name": "stdout",
     "output_type": "stream",
     "text": [
      "(3, 3)\n"
     ]
    }
   ],
   "source": [
    "print(arr.shape)"
   ]
  },
  {
   "cell_type": "markdown",
   "id": "03663b69-3542-454a-985f-3ac33814e21b",
   "metadata": {},
   "source": [
    "6)Dtype Function\n",
    "\n",
    "Every ndarray has an associated data type (dtype) object. This data type object (dtype) informs us about the layout of the array. This means it gives us information about:\r\n",
    "\r\n",
    "Type of the data (integer, float, Python object, etc.)\r\n",
    "Size of the data (number of bytes)\r\n",
    "The byte order of the data (little-endian or big-endian)\r\n",
    "If the data type is a sub-array, what is its shape and data type?"
   ]
  },
  {
   "cell_type": "code",
   "execution_count": 33,
   "id": "f4046da5-82f1-4b05-8ae9-923cfcb4637f",
   "metadata": {},
   "outputs": [
    {
     "name": "stdout",
     "output_type": "stream",
     "text": [
      "int32\n",
      "float64\n"
     ]
    }
   ],
   "source": [
    "arr1=np.array([1,2,3,1,2,3])\n",
    "arr2=np.array([1,2,3,1.2,1.3])\n",
    "\n",
    "print(arr1.dtype)\n",
    "print(arr2.dtype)"
   ]
  },
  {
   "cell_type": "markdown",
   "id": "ede347e8-2db9-4d46-97df-f9a699905dbc",
   "metadata": {},
   "source": [
    "7)Ndim Function"
   ]
  },
  {
   "cell_type": "markdown",
   "id": "409d8ab7-c72b-41dd-a110-e6941f11cbe0",
   "metadata": {},
   "source": [
    "numpy.ndarry.ndim() function return the number of dimensions of array."
   ]
  },
  {
   "cell_type": "code",
   "execution_count": 45,
   "id": "90288207-309b-4430-8aa0-13b8025d85e6",
   "metadata": {},
   "outputs": [
    {
     "name": "stdout",
     "output_type": "stream",
     "text": [
      "1\n",
      "2\n"
     ]
    },
    {
     "data": {
      "text/plain": [
       "array([1, 2, 3, 4, 5, 6])"
      ]
     },
     "execution_count": 45,
     "metadata": {},
     "output_type": "execute_result"
    }
   ],
   "source": [
    "array1=np.array([1,2,3,4,5,6])\n",
    "array2=np.array([[1,2,3],[4,5,6]])\n",
    "print(array1.ndim)\n",
    "print(array2.ndim)\n",
    "array3=np.array(array1,ndmin=1)\n",
    "array3"
   ]
  },
  {
   "cell_type": "markdown",
   "id": "0aa2e7a5-6b81-483e-94d8-e681d68233c1",
   "metadata": {},
   "source": [
    "8) Zero Function"
   ]
  },
  {
   "cell_type": "markdown",
   "id": "181a6473-4ef0-4f85-a667-34c72c4fe85d",
   "metadata": {},
   "source": [
    "The numpy.zeros() Function returns a new array of given shape and type ,with zeros.Syntax:\n",
    "numpy.Zeros9shape,dtype=None)"
   ]
  },
  {
   "cell_type": "code",
   "execution_count": 48,
   "id": "78ddee22-eb25-4b5d-9280-16fa9a024e2d",
   "metadata": {},
   "outputs": [
    {
     "name": "stdout",
     "output_type": "stream",
     "text": [
      "float64\n",
      "[[0. 0. 0. 0.]\n",
      " [0. 0. 0. 0.]\n",
      " [0. 0. 0. 0.]]\n"
     ]
    }
   ],
   "source": [
    "arr=np.zeros(shape=(3,4))\n",
    "print(arr.dtype)\n",
    "print(arr)"
   ]
  },
  {
   "cell_type": "code",
   "execution_count": 49,
   "id": "e524ef89-6172-4517-b4fc-6bf8c056cb90",
   "metadata": {},
   "outputs": [],
   "source": [
    "#Ones Function"
   ]
  },
  {
   "cell_type": "code",
   "execution_count": 51,
   "id": "5032d140-e0d5-42d3-bfe4-f439fe20aeab",
   "metadata": {},
   "outputs": [
    {
     "name": "stdout",
     "output_type": "stream",
     "text": [
      "[[1. 1. 1. 1.]\n",
      " [1. 1. 1. 1.]\n",
      " [1. 1. 1. 1.]\n",
      " [1. 1. 1. 1.]]\n",
      "float64\n"
     ]
    }
   ],
   "source": [
    "arr=np.ones(shape=(4,4))\n",
    "print(arr)\n",
    "print(arr.dtype)"
   ]
  },
  {
   "cell_type": "markdown",
   "id": "2632e17b-6f63-4647-b73f-3ef15ba47004",
   "metadata": {},
   "source": [
    "9) Eye Function"
   ]
  },
  {
   "cell_type": "markdown",
   "id": "0698a67a-bd5a-4b78-858c-c30cab0500e7",
   "metadata": {},
   "source": [
    "The eye tool returns a 2-D array with 1's as the diagonal and 0's elsewhare .the diagonal can be main,Upper,or lower depending on the optional parametr k."
   ]
  },
  {
   "cell_type": "code",
   "execution_count": 56,
   "id": "dd6ff3fe-2a8a-4f8e-9a2a-771adf13b457",
   "metadata": {},
   "outputs": [
    {
     "data": {
      "text/plain": [
       "array([[1, 0, 0, 0],\n",
       "       [0, 1, 0, 0],\n",
       "       [0, 0, 1, 0],\n",
       "       [0, 0, 0, 1]])"
      ]
     },
     "execution_count": 56,
     "metadata": {},
     "output_type": "execute_result"
    }
   ],
   "source": [
    "np.eye(4,dtype=int)"
   ]
  },
  {
   "cell_type": "markdown",
   "id": "558a6906-7000-41e5-8a24-43553f915edf",
   "metadata": {},
   "source": [
    "10) Empty Function"
   ]
  },
  {
   "cell_type": "markdown",
   "id": "603ec79e-efaa-49fd-9ee7-4e89cb89c83c",
   "metadata": {},
   "source": [
    "Return an empty array of given shape and type"
   ]
  },
  {
   "cell_type": "code",
   "execution_count": 57,
   "id": "958892e1-0bee-4d6d-8907-f6d4cf88c513",
   "metadata": {},
   "outputs": [
    {
     "data": {
      "text/plain": [
       "array([[7.67306658e-312, 7.60861095e-322, 0.00000000e+000,\n",
       "        0.00000000e+000, 1.89146896e-307],\n",
       "       [1.15998412e-028, 4.31603868e-080, 1.94919985e-153,\n",
       "        1.35717430e+131, 6.98346901e-077],\n",
       "       [1.81148490e-152, 9.37041222e-076, 1.05117820e-153,\n",
       "        6.01391519e-154, 1.05121175e-153],\n",
       "       [7.68132025e+140, 6.01347002e-154, 7.54951879e-096,\n",
       "        1.95360725e-109, 4.90900643e+252],\n",
       "       [1.94918511e-153, 6.32672800e+180, 4.74483502e+170,\n",
       "        8.47093531e-053, 3.93370621e-317]])"
      ]
     },
     "execution_count": 57,
     "metadata": {},
     "output_type": "execute_result"
    }
   ],
   "source": [
    "np.empty(shape=(5,5))"
   ]
  },
  {
   "cell_type": "markdown",
   "id": "714a7b40-417c-41d7-a2d3-8025a19bc3ca",
   "metadata": {},
   "source": [
    "11) random Function"
   ]
  },
  {
   "cell_type": "code",
   "execution_count": 58,
   "id": "36ae2130-c8c9-49af-b008-933ad7cd7c4d",
   "metadata": {},
   "outputs": [],
   "source": [
    "#a) np.random.rand\n",
    "# The numpy.random.rand() function creates an array of specified shape and fills it with random values."
   ]
  },
  {
   "cell_type": "code",
   "execution_count": 59,
   "id": "62784467-fc79-4b30-8e05-35c60e933234",
   "metadata": {},
   "outputs": [
    {
     "data": {
      "text/plain": [
       "array([[0.2579276 , 0.7885727 , 0.47180482, 0.88964772],\n",
       "       [0.06112229, 0.89400506, 0.72965869, 0.9615924 ],\n",
       "       [0.84792219, 0.89814207, 0.65919252, 0.58144393]])"
      ]
     },
     "execution_count": 59,
     "metadata": {},
     "output_type": "execute_result"
    }
   ],
   "source": [
    "np.random.rand(3,4)"
   ]
  },
  {
   "cell_type": "code",
   "execution_count": 60,
   "id": "78b8287f-c86a-417d-92a8-4d6385437acc",
   "metadata": {},
   "outputs": [],
   "source": [
    "# b)np.random.randint\n",
    "# numpy.random.randint() is one of the function for doing random sampling in numpy. It returns an array of specified shape and fills it with random integers from low (inclusive) to high (exclusive), i.e. in the interval [low, high)."
   ]
  },
  {
   "cell_type": "code",
   "execution_count": 63,
   "id": "cc159a23-057c-493b-a71c-8c16aecb079d",
   "metadata": {},
   "outputs": [
    {
     "data": {
      "text/plain": [
       "array([5, 5, 9, 5, 5, 5, 6, 1, 4, 2])"
      ]
     },
     "execution_count": 63,
     "metadata": {},
     "output_type": "execute_result"
    }
   ],
   "source": [
    "np.random.randint(low=1,high=10,size=10)"
   ]
  },
  {
   "cell_type": "code",
   "execution_count": 64,
   "id": "02462b9a-b37b-4dd6-9e07-2b9878c596ef",
   "metadata": {},
   "outputs": [],
   "source": [
    "#c) np.random.randn\n",
    "# The numpy.random.randn() function creates an array of specified shape and fills it with random values as per standard normal distribution.\n"
   ]
  },
  {
   "cell_type": "code",
   "execution_count": 65,
   "id": "16690e81-c948-4eb5-8540-7592aea13880",
   "metadata": {},
   "outputs": [
    {
     "data": {
      "text/plain": [
       "array([-0.42215335, -1.25939922,  0.62623644,  0.05160371,  1.02918359,\n",
       "       -0.4480792 , -0.97692675, -1.69759199,  0.33733812,  1.35103915,\n",
       "        0.65639868,  0.74539689,  0.2101127 , -0.57829148,  1.31871952,\n",
       "       -0.23192524, -0.20090481,  0.15528957, -1.59747407, -0.76006285,\n",
       "       -0.90217355,  0.11408577,  0.60092186,  0.9892518 , -1.3029407 ,\n",
       "        1.37402021, -0.71580166, -1.02273899, -1.15261377,  0.46688142,\n",
       "        0.53176547, -0.44657245,  0.6457217 , -0.39550535, -0.00708895,\n",
       "        0.14968863, -0.3416416 , -0.40976692, -1.4495257 ,  0.83546381,\n",
       "        0.29347524, -0.40066371, -1.5463737 , -0.46838086, -0.15974269,\n",
       "        1.04618858, -1.37741035,  0.70396061, -0.16799522,  0.32148626,\n",
       "        1.52944916, -1.13544323,  0.06139721,  0.42470526,  0.5122297 ,\n",
       "       -0.26055938, -0.35946494, -0.29228828, -0.41554845, -1.57544375,\n",
       "       -1.55894117, -0.89351417,  0.64238666, -1.38447822, -0.53612713,\n",
       "       -0.25806097,  1.03111682,  1.26426986, -1.88221023, -1.53929569,\n",
       "       -1.72517895,  0.983933  ,  0.29155833, -2.68016747,  1.23155857,\n",
       "       -0.8247798 , -0.14699134, -0.13400767, -0.94642671, -0.28714084,\n",
       "       -0.09080679,  0.03789717, -0.20084222,  0.76343523, -1.71311492,\n",
       "       -0.48388697, -0.83943945,  1.53252064,  0.67001326,  1.53221793,\n",
       "       -1.56170843,  0.8807658 ,  0.69354039, -1.04691173, -0.78722629,\n",
       "        0.42196053,  0.70552974,  0.07010414, -0.57017523, -0.53550811])"
      ]
     },
     "execution_count": 65,
     "metadata": {},
     "output_type": "execute_result"
    }
   ],
   "source": [
    "np.random.randn(100)"
   ]
  },
  {
   "cell_type": "code",
   "execution_count": 73,
   "id": "436672de-e5d5-4ed3-94ed-428d83c34d93",
   "metadata": {},
   "outputs": [
    {
     "data": {
      "text/plain": [
       "(array([1.00000e+00, 0.00000e+00, 0.00000e+00, 0.00000e+00, 0.00000e+00,\n",
       "        0.00000e+00, 0.00000e+00, 0.00000e+00, 0.00000e+00, 0.00000e+00,\n",
       "        0.00000e+00, 0.00000e+00, 0.00000e+00, 0.00000e+00, 0.00000e+00,\n",
       "        0.00000e+00, 0.00000e+00, 0.00000e+00, 0.00000e+00, 1.00000e+00,\n",
       "        1.00000e+00, 0.00000e+00, 0.00000e+00, 0.00000e+00, 0.00000e+00,\n",
       "        0.00000e+00, 0.00000e+00, 0.00000e+00, 0.00000e+00, 0.00000e+00,\n",
       "        0.00000e+00, 2.00000e+00, 0.00000e+00, 2.00000e+00, 3.00000e+00,\n",
       "        1.00000e+00, 1.00000e+00, 0.00000e+00, 1.00000e+00, 1.00000e+00,\n",
       "        0.00000e+00, 0.00000e+00, 0.00000e+00, 1.00000e+00, 2.00000e+00,\n",
       "        0.00000e+00, 2.00000e+00, 0.00000e+00, 0.00000e+00, 3.00000e+00,\n",
       "        0.00000e+00, 0.00000e+00, 2.00000e+00, 3.00000e+00, 3.00000e+00,\n",
       "        2.00000e+00, 0.00000e+00, 3.00000e+00, 2.00000e+00, 5.00000e+00,\n",
       "        0.00000e+00, 0.00000e+00, 2.00000e+00, 4.00000e+00, 2.00000e+00,\n",
       "        4.00000e+00, 3.00000e+00, 4.00000e+00, 2.00000e+00, 3.00000e+00,\n",
       "        1.00000e+00, 2.00000e+00, 1.00000e+00, 2.00000e+00, 2.00000e+00,\n",
       "        4.00000e+00, 4.00000e+00, 5.00000e+00, 2.00000e+00, 6.00000e+00,\n",
       "        5.00000e+00, 4.00000e+00, 6.00000e+00, 3.00000e+00, 6.00000e+00,\n",
       "        6.00000e+00, 1.10000e+01, 8.00000e+00, 8.00000e+00, 6.00000e+00,\n",
       "        8.00000e+00, 1.20000e+01, 9.00000e+00, 8.00000e+00, 1.10000e+01,\n",
       "        8.00000e+00, 1.50000e+01, 1.00000e+01, 7.00000e+00, 2.10000e+01,\n",
       "        2.00000e+01, 1.10000e+01, 1.90000e+01, 2.10000e+01, 1.20000e+01,\n",
       "        1.40000e+01, 2.30000e+01, 1.50000e+01, 1.70000e+01, 3.00000e+01,\n",
       "        2.00000e+01, 2.50000e+01, 2.90000e+01, 2.50000e+01, 2.50000e+01,\n",
       "        3.50000e+01, 4.10000e+01, 4.40000e+01, 3.10000e+01, 4.20000e+01,\n",
       "        3.90000e+01, 3.80000e+01, 4.60000e+01, 4.10000e+01, 4.40000e+01,\n",
       "        3.90000e+01, 6.60000e+01, 5.10000e+01, 5.50000e+01, 6.70000e+01,\n",
       "        7.00000e+01, 6.50000e+01, 8.00000e+01, 6.50000e+01, 7.00000e+01,\n",
       "        8.50000e+01, 6.60000e+01, 8.00000e+01, 9.60000e+01, 1.05000e+02,\n",
       "        1.06000e+02, 1.03000e+02, 1.05000e+02, 1.24000e+02, 1.24000e+02,\n",
       "        1.29000e+02, 1.25000e+02, 1.42000e+02, 1.78000e+02, 1.49000e+02,\n",
       "        1.81000e+02, 1.74000e+02, 1.94000e+02, 1.52000e+02, 2.05000e+02,\n",
       "        2.00000e+02, 2.15000e+02, 2.19000e+02, 2.26000e+02, 2.41000e+02,\n",
       "        2.77000e+02, 2.39000e+02, 2.71000e+02, 3.02000e+02, 3.28000e+02,\n",
       "        2.89000e+02, 3.09000e+02, 3.26000e+02, 3.60000e+02, 3.84000e+02,\n",
       "        3.77000e+02, 3.88000e+02, 4.18000e+02, 4.33000e+02, 4.85000e+02,\n",
       "        5.10000e+02, 5.18000e+02, 4.66000e+02, 5.41000e+02, 5.78000e+02,\n",
       "        6.20000e+02, 5.99000e+02, 6.29000e+02, 7.05000e+02, 6.88000e+02,\n",
       "        6.60000e+02, 7.55000e+02, 7.71000e+02, 7.80000e+02, 8.52000e+02,\n",
       "        8.99000e+02, 9.24000e+02, 9.79000e+02, 9.87000e+02, 1.04100e+03,\n",
       "        1.07900e+03, 1.07800e+03, 1.20900e+03, 1.19200e+03, 1.23600e+03,\n",
       "        1.27200e+03, 1.37400e+03, 1.36900e+03, 1.45700e+03, 1.52100e+03,\n",
       "        1.59400e+03, 1.63600e+03, 1.72800e+03, 1.79400e+03, 1.85200e+03,\n",
       "        1.82500e+03, 1.97100e+03, 2.02600e+03, 2.12700e+03, 2.15400e+03,\n",
       "        2.34100e+03, 2.30400e+03, 2.43300e+03, 2.55000e+03, 2.60600e+03,\n",
       "        2.74100e+03, 2.77100e+03, 2.99600e+03, 3.03900e+03, 3.12700e+03,\n",
       "        3.27500e+03, 3.31300e+03, 3.44800e+03, 3.62700e+03, 3.61400e+03,\n",
       "        3.83800e+03, 4.07900e+03, 4.13600e+03, 4.36100e+03, 4.39700e+03,\n",
       "        4.68400e+03, 4.70400e+03, 4.92200e+03, 5.08800e+03, 5.13400e+03,\n",
       "        5.31100e+03, 5.55200e+03, 5.87900e+03, 5.83600e+03, 6.13200e+03,\n",
       "        6.56200e+03, 6.71700e+03, 6.83600e+03, 7.06300e+03, 7.17300e+03,\n",
       "        7.41100e+03, 7.91500e+03, 7.95600e+03, 8.20000e+03, 8.48400e+03,\n",
       "        8.90100e+03, 9.11100e+03, 9.17700e+03, 9.81200e+03, 1.00650e+04,\n",
       "        1.01820e+04, 1.06940e+04, 1.08030e+04, 1.13270e+04, 1.15010e+04,\n",
       "        1.19120e+04, 1.23140e+04, 1.26320e+04, 1.29770e+04, 1.34700e+04,\n",
       "        1.38480e+04, 1.42350e+04, 1.47760e+04, 1.54200e+04, 1.58250e+04,\n",
       "        1.60740e+04, 1.67160e+04, 1.71040e+04, 1.75390e+04, 1.81600e+04,\n",
       "        1.88410e+04, 1.90270e+04, 1.95690e+04, 2.01360e+04, 2.06500e+04,\n",
       "        2.14380e+04, 2.20270e+04, 2.28460e+04, 2.30360e+04, 2.37040e+04,\n",
       "        2.45230e+04, 2.51820e+04, 2.58180e+04, 2.65330e+04, 2.73610e+04,\n",
       "        2.82730e+04, 2.86420e+04, 2.94420e+04, 3.02110e+04, 3.08280e+04,\n",
       "        3.20200e+04, 3.25070e+04, 3.36140e+04, 3.42410e+04, 3.48800e+04,\n",
       "        3.61000e+04, 3.69910e+04, 3.79200e+04, 3.92770e+04, 3.96850e+04,\n",
       "        4.09440e+04, 4.14470e+04, 4.27130e+04, 4.38730e+04, 4.52650e+04,\n",
       "        4.62590e+04, 4.71750e+04, 4.84350e+04, 4.96810e+04, 5.10600e+04,\n",
       "        5.17380e+04, 5.32700e+04, 5.48160e+04, 5.60430e+04, 5.68980e+04,\n",
       "        5.80800e+04, 5.96350e+04, 6.12270e+04, 6.16220e+04, 6.34140e+04,\n",
       "        6.47480e+04, 6.58040e+04, 6.79340e+04, 6.92970e+04, 7.11030e+04,\n",
       "        7.24620e+04, 7.40710e+04, 7.55550e+04, 7.68430e+04, 7.87110e+04,\n",
       "        8.07000e+04, 8.24420e+04, 8.40200e+04, 8.60330e+04, 8.73180e+04,\n",
       "        8.91970e+04, 9.07900e+04, 9.27630e+04, 9.42440e+04, 9.65770e+04,\n",
       "        9.91960e+04, 1.00619e+05, 1.01919e+05, 1.04353e+05, 1.06290e+05,\n",
       "        1.08305e+05, 1.10374e+05, 1.12869e+05, 1.14264e+05, 1.16116e+05,\n",
       "        1.18433e+05, 1.20892e+05, 1.23403e+05, 1.25315e+05, 1.28045e+05,\n",
       "        1.30155e+05, 1.32313e+05, 1.35257e+05, 1.36975e+05, 1.38463e+05,\n",
       "        1.42058e+05, 1.44165e+05, 1.46431e+05, 1.48706e+05, 1.51470e+05,\n",
       "        1.53966e+05, 1.56369e+05, 1.58549e+05, 1.61540e+05, 1.64175e+05,\n",
       "        1.66569e+05, 1.69595e+05, 1.71012e+05, 1.75378e+05, 1.77680e+05,\n",
       "        1.80415e+05, 1.82864e+05, 1.85934e+05, 1.87624e+05, 1.91306e+05,\n",
       "        1.93586e+05, 1.96207e+05, 1.99714e+05, 2.02658e+05, 2.04736e+05,\n",
       "        2.08261e+05, 2.11447e+05, 2.13666e+05, 2.17033e+05, 2.19533e+05,\n",
       "        2.22880e+05, 2.25315e+05, 2.28168e+05, 2.32288e+05, 2.35017e+05,\n",
       "        2.37991e+05, 2.40143e+05, 2.42656e+05, 2.46598e+05, 2.49442e+05,\n",
       "        2.53429e+05, 2.55601e+05, 2.58074e+05, 2.62232e+05, 2.64903e+05,\n",
       "        2.67914e+05, 2.71425e+05, 2.73379e+05, 2.76418e+05, 2.78778e+05,\n",
       "        2.82108e+05, 2.84597e+05, 2.88627e+05, 2.92236e+05, 2.94231e+05,\n",
       "        2.96883e+05, 3.00006e+05, 3.03641e+05, 3.06979e+05, 3.07731e+05,\n",
       "        3.13296e+05, 3.15257e+05, 3.18892e+05, 3.20717e+05, 3.25295e+05,\n",
       "        3.26352e+05, 3.29773e+05, 3.32278e+05, 3.35468e+05, 3.38062e+05,\n",
       "        3.41142e+05, 3.45099e+05, 3.47801e+05, 3.50892e+05, 3.52808e+05,\n",
       "        3.53806e+05, 3.57397e+05, 3.61087e+05, 3.61933e+05, 3.66209e+05,\n",
       "        3.69122e+05, 3.70906e+05, 3.73040e+05, 3.75633e+05, 3.78181e+05,\n",
       "        3.81542e+05, 3.82714e+05, 3.85587e+05, 3.87228e+05, 3.89739e+05,\n",
       "        3.92305e+05, 3.95186e+05, 3.97293e+05, 3.98797e+05, 4.00644e+05,\n",
       "        4.03116e+05, 4.04561e+05, 4.07725e+05, 4.09281e+05, 4.10378e+05,\n",
       "        4.12368e+05, 4.15818e+05, 4.17145e+05, 4.17767e+05, 4.19642e+05,\n",
       "        4.21102e+05, 4.23329e+05, 4.24218e+05, 4.24755e+05, 4.27721e+05,\n",
       "        4.28770e+05, 4.29950e+05, 4.31163e+05, 4.31756e+05, 4.34078e+05,\n",
       "        4.33510e+05, 4.35457e+05, 4.37449e+05, 4.37464e+05, 4.39090e+05,\n",
       "        4.39526e+05, 4.39958e+05, 4.41037e+05, 4.41270e+05, 4.42908e+05,\n",
       "        4.42960e+05, 4.44912e+05, 4.44537e+05, 4.44428e+05, 4.45653e+05,\n",
       "        4.44686e+05, 4.45270e+05, 4.45338e+05, 4.44469e+05, 4.45879e+05,\n",
       "        4.45408e+05, 4.46640e+05, 4.45790e+05, 4.45484e+05, 4.44892e+05,\n",
       "        4.46069e+05, 4.44315e+05, 4.45300e+05, 4.44841e+05, 4.43322e+05,\n",
       "        4.45105e+05, 4.42334e+05, 4.44151e+05, 4.41668e+05, 4.40757e+05,\n",
       "        4.39798e+05, 4.38533e+05, 4.39081e+05, 4.37908e+05, 4.36248e+05,\n",
       "        4.33671e+05, 4.34747e+05, 4.34452e+05, 4.32021e+05, 4.30801e+05,\n",
       "        4.29818e+05, 4.28543e+05, 4.27106e+05, 4.24445e+05, 4.24087e+05,\n",
       "        4.21995e+05, 4.21431e+05, 4.19690e+05, 4.18093e+05, 4.15070e+05,\n",
       "        4.14378e+05, 4.12755e+05, 4.11018e+05, 4.08598e+05, 4.06984e+05,\n",
       "        4.04725e+05, 4.02378e+05, 4.01358e+05, 3.98221e+05, 3.96849e+05,\n",
       "        3.94813e+05, 3.92286e+05, 3.89791e+05, 3.86526e+05, 3.86003e+05,\n",
       "        3.81788e+05, 3.80997e+05, 3.78579e+05, 3.76137e+05, 3.72007e+05,\n",
       "        3.71286e+05, 3.66592e+05, 3.66049e+05, 3.63415e+05, 3.58776e+05,\n",
       "        3.58546e+05, 3.54905e+05, 3.50842e+05, 3.48983e+05, 3.46399e+05,\n",
       "        3.44136e+05, 3.40926e+05, 3.38034e+05, 3.34715e+05, 3.32683e+05,\n",
       "        3.31158e+05, 3.26100e+05, 3.23232e+05, 3.20689e+05, 3.18864e+05,\n",
       "        3.15608e+05, 3.12669e+05, 3.09366e+05, 3.05762e+05, 3.02791e+05,\n",
       "        3.00209e+05, 2.97178e+05, 2.95499e+05, 2.91725e+05, 2.88334e+05,\n",
       "        2.85258e+05, 2.83329e+05, 2.80066e+05, 2.75613e+05, 2.71617e+05,\n",
       "        2.69900e+05, 2.67251e+05, 2.63737e+05, 2.61448e+05, 2.58070e+05,\n",
       "        2.55131e+05, 2.51543e+05, 2.48743e+05, 2.45597e+05, 2.42981e+05,\n",
       "        2.40479e+05, 2.36913e+05, 2.34753e+05, 2.31300e+05, 2.28830e+05,\n",
       "        2.24459e+05, 2.22130e+05, 2.19834e+05, 2.16309e+05, 2.13636e+05,\n",
       "        2.10062e+05, 2.07518e+05, 2.04717e+05, 2.02269e+05, 1.98547e+05,\n",
       "        1.97643e+05, 1.93177e+05, 1.91169e+05, 1.87393e+05, 1.84627e+05,\n",
       "        1.82749e+05, 1.79596e+05, 1.77700e+05, 1.74967e+05, 1.71871e+05,\n",
       "        1.68507e+05, 1.66010e+05, 1.63883e+05, 1.61386e+05, 1.58881e+05,\n",
       "        1.55986e+05, 1.53402e+05, 1.50884e+05, 1.49164e+05, 1.45943e+05,\n",
       "        1.44464e+05, 1.41507e+05, 1.38849e+05, 1.37051e+05, 1.34473e+05,\n",
       "        1.32009e+05, 1.29412e+05, 1.27759e+05, 1.24924e+05, 1.22700e+05,\n",
       "        1.21005e+05, 1.18136e+05, 1.16855e+05, 1.13693e+05, 1.12706e+05,\n",
       "        1.10121e+05, 1.07743e+05, 1.05885e+05, 1.04120e+05, 1.01812e+05,\n",
       "        1.00071e+05, 9.86950e+04, 9.62090e+04, 9.46210e+04, 9.20340e+04,\n",
       "        9.04800e+04, 8.87260e+04, 8.76590e+04, 8.49470e+04, 8.40860e+04,\n",
       "        8.21840e+04, 8.02910e+04, 7.83740e+04, 7.69690e+04, 7.57640e+04,\n",
       "        7.33490e+04, 7.19010e+04, 7.12980e+04, 6.93130e+04, 6.76930e+04,\n",
       "        6.64950e+04, 6.43950e+04, 6.34470e+04, 6.18760e+04, 6.05250e+04,\n",
       "        5.92930e+04, 5.82170e+04, 5.66510e+04, 5.55290e+04, 5.43610e+04,\n",
       "        5.32250e+04, 5.15520e+04, 5.07090e+04, 4.93110e+04, 4.86340e+04,\n",
       "        4.71620e+04, 4.62910e+04, 4.44180e+04, 4.36870e+04, 4.27000e+04,\n",
       "        4.19220e+04, 4.07670e+04, 3.97830e+04, 3.88450e+04, 3.79840e+04,\n",
       "        3.69530e+04, 3.58070e+04, 3.50760e+04, 3.41380e+04, 3.37420e+04,\n",
       "        3.23510e+04, 3.18620e+04, 3.10170e+04, 3.01100e+04, 2.96680e+04,\n",
       "        2.87080e+04, 2.77470e+04, 2.72180e+04, 2.64690e+04, 2.59370e+04,\n",
       "        2.52710e+04, 2.45420e+04, 2.36710e+04, 2.30340e+04, 2.21670e+04,\n",
       "        2.19400e+04, 2.11360e+04, 2.05520e+04, 2.00120e+04, 1.96020e+04,\n",
       "        1.92060e+04, 1.83970e+04, 1.80070e+04, 1.76850e+04, 1.71090e+04,\n",
       "        1.64930e+04, 1.60880e+04, 1.56340e+04, 1.51760e+04, 1.45280e+04,\n",
       "        1.45030e+04, 1.37610e+04, 1.33670e+04, 1.31780e+04, 1.26990e+04,\n",
       "        1.24300e+04, 1.18950e+04, 1.15680e+04, 1.11790e+04, 1.05600e+04,\n",
       "        1.05780e+04, 1.02790e+04, 9.77000e+03, 9.54400e+03, 9.47300e+03,\n",
       "        9.16900e+03, 8.56000e+03, 8.62100e+03, 8.18200e+03, 8.04900e+03,\n",
       "        7.87800e+03, 7.32800e+03, 7.24200e+03, 7.04400e+03, 6.77400e+03,\n",
       "        6.58500e+03, 6.38700e+03, 6.06800e+03, 6.11200e+03, 5.87400e+03,\n",
       "        5.48500e+03, 5.42900e+03, 5.40500e+03, 4.86600e+03, 4.90300e+03,\n",
       "        4.73200e+03, 4.63200e+03, 4.46200e+03, 4.36300e+03, 4.10000e+03,\n",
       "        3.94500e+03, 3.77700e+03, 3.71000e+03, 3.60400e+03, 3.54100e+03,\n",
       "        3.39100e+03, 3.29900e+03, 3.23000e+03, 3.04500e+03, 2.89900e+03,\n",
       "        2.89000e+03, 2.76000e+03, 2.66500e+03, 2.57700e+03, 2.40300e+03,\n",
       "        2.34600e+03, 2.34500e+03, 2.20400e+03, 2.12500e+03, 2.10500e+03,\n",
       "        1.93600e+03, 1.89600e+03, 1.81000e+03, 1.73600e+03, 1.69000e+03,\n",
       "        1.56000e+03, 1.58400e+03, 1.51000e+03, 1.42100e+03, 1.40300e+03,\n",
       "        1.42200e+03, 1.30000e+03, 1.25600e+03, 1.16600e+03, 1.17200e+03,\n",
       "        1.17000e+03, 1.07600e+03, 1.01600e+03, 9.79000e+02, 9.51000e+02,\n",
       "        8.91000e+02, 8.79000e+02, 8.63000e+02, 7.70000e+02, 8.03000e+02,\n",
       "        7.22000e+02, 7.47000e+02, 6.70000e+02, 6.82000e+02, 5.93000e+02,\n",
       "        6.36000e+02, 5.96000e+02, 5.93000e+02, 5.62000e+02, 5.07000e+02,\n",
       "        4.88000e+02, 4.59000e+02, 4.25000e+02, 4.40000e+02, 4.32000e+02,\n",
       "        4.16000e+02, 4.11000e+02, 3.98000e+02, 3.51000e+02, 3.35000e+02,\n",
       "        3.46000e+02, 3.08000e+02, 3.08000e+02, 2.79000e+02, 2.76000e+02,\n",
       "        2.75000e+02, 2.33000e+02, 2.39000e+02, 2.35000e+02, 2.44000e+02,\n",
       "        1.88000e+02, 2.54000e+02, 2.03000e+02, 1.88000e+02, 1.87000e+02,\n",
       "        1.79000e+02, 1.60000e+02, 1.62000e+02, 1.56000e+02, 1.47000e+02,\n",
       "        1.47000e+02, 1.09000e+02, 1.14000e+02, 1.10000e+02, 1.08000e+02,\n",
       "        1.06000e+02, 1.19000e+02, 9.80000e+01, 1.11000e+02, 9.20000e+01,\n",
       "        7.20000e+01, 7.30000e+01, 8.80000e+01, 6.80000e+01, 6.60000e+01,\n",
       "        7.30000e+01, 5.80000e+01, 5.60000e+01, 5.00000e+01, 5.60000e+01,\n",
       "        5.70000e+01, 4.00000e+01, 4.70000e+01, 3.90000e+01, 5.80000e+01,\n",
       "        4.30000e+01, 3.80000e+01, 3.90000e+01, 3.40000e+01, 3.60000e+01,\n",
       "        2.70000e+01, 2.80000e+01, 2.60000e+01, 2.80000e+01, 3.40000e+01,\n",
       "        3.70000e+01, 3.30000e+01, 2.20000e+01, 2.50000e+01, 2.20000e+01,\n",
       "        1.20000e+01, 2.10000e+01, 1.90000e+01, 1.20000e+01, 1.20000e+01,\n",
       "        1.50000e+01, 1.10000e+01, 1.20000e+01, 1.50000e+01, 1.20000e+01,\n",
       "        1.20000e+01, 1.30000e+01, 1.30000e+01, 7.00000e+00, 1.00000e+01,\n",
       "        7.00000e+00, 8.00000e+00, 7.00000e+00, 1.40000e+01, 8.00000e+00,\n",
       "        4.00000e+00, 1.00000e+01, 6.00000e+00, 5.00000e+00, 4.00000e+00,\n",
       "        5.00000e+00, 9.00000e+00, 7.00000e+00, 1.00000e+00, 5.00000e+00,\n",
       "        3.00000e+00, 3.00000e+00, 5.00000e+00, 5.00000e+00, 4.00000e+00,\n",
       "        2.00000e+00, 5.00000e+00, 3.00000e+00, 2.00000e+00, 1.00000e+00,\n",
       "        1.00000e+00, 4.00000e+00, 0.00000e+00, 1.00000e+00, 2.00000e+00,\n",
       "        2.00000e+00, 3.00000e+00, 1.00000e+00, 1.00000e+00, 0.00000e+00,\n",
       "        1.00000e+00, 1.00000e+00, 1.00000e+00, 0.00000e+00, 0.00000e+00,\n",
       "        1.00000e+00, 3.00000e+00, 1.00000e+00, 1.00000e+00, 1.00000e+00,\n",
       "        1.00000e+00, 1.00000e+00, 1.00000e+00, 0.00000e+00, 0.00000e+00,\n",
       "        1.00000e+00, 0.00000e+00, 1.00000e+00, 0.00000e+00, 0.00000e+00,\n",
       "        2.00000e+00, 1.00000e+00, 0.00000e+00, 0.00000e+00, 2.00000e+00,\n",
       "        0.00000e+00, 0.00000e+00, 0.00000e+00, 1.00000e+00, 0.00000e+00,\n",
       "        0.00000e+00, 0.00000e+00, 0.00000e+00, 0.00000e+00, 0.00000e+00,\n",
       "        0.00000e+00, 0.00000e+00, 0.00000e+00, 1.00000e+00, 0.00000e+00,\n",
       "        1.00000e+00, 0.00000e+00, 0.00000e+00, 1.00000e+00, 1.00000e+00]),\n",
       " array([-5.65978731, -5.64860094, -5.63741457, ...,  5.50421115,\n",
       "         5.51539752,  5.52658389]),\n",
       " <BarContainer object of 1000 artists>)"
      ]
     },
     "execution_count": 73,
     "metadata": {},
     "output_type": "execute_result"
    },
    {
     "data": {
      "image/png": "[encoded data removed]",
      "text/plain": [
       "<Figure size 640x480 with 1 Axes>"
      ]
     },
     "metadata": {},
     "output_type": "display_data"
    }
   ],
   "source": [
    "import matplotlib.pyplot as plt\n",
    "%matplotlib inline\n",
    "plt.hist(np.random.randn(100000000),bins=1000)"
   ]
  },
  {
   "cell_type": "markdown",
   "id": "6414eae8-a2eb-4fe7-8e4e-9112eda2e0ea",
   "metadata": {},
   "source": [
    "12)reshape function - will not alter the original data\n",
    "\n",
    "\n",
    "The numpy.reshape() function shapes an array without changing the data of the array.<br> It should be noted that the product if the rows and columns should be same "
   ]
  },
  {
   "cell_type": "code",
   "execution_count": 79,
   "id": "e2f25037-40b3-42af-9530-e8abc8b3d323",
   "metadata": {},
   "outputs": [
    {
     "name": "stdout",
     "output_type": "stream",
     "text": [
      "(3, 4)\n",
      "[[ 1 12  5 14]\n",
      " [12 13 14  1]\n",
      " [13  8  1  6]]\n",
      "(4, 3)\n",
      "[[ 1 12  5]\n",
      " [14 12 13]\n",
      " [14  1 13]\n",
      " [ 8  1  6]]\n"
     ]
    }
   ],
   "source": [
    "arr=np.random.randint(1,15,(3,4))\n",
    "print(arr.shape)\n",
    "print(arr)\n",
    "arr=arr.reshape(4,3)\n",
    "print(arr.shape)\n",
    "print(arr)"
   ]
  },
  {
   "cell_type": "markdown",
   "id": "f05f107f-28b2-44a3-83bb-64da96efa385",
   "metadata": {},
   "source": [
    "13) Linspace Function\n",
    "\n",
    " The numpy.linspace() function returns number spaces evenly w.r.t interval. Similar to numpy.arange() function but instead of step it uses sample number.\n",
    "\n",
    "Parameters :\r\n",
    "\r\n",
    "-> start : [optional] start of interval range. By default start =\n",
    " 0\r\n",
    "-> stop : end of interval ra\n",
    "nge\r\n",
    "-> restep : If True, return (samples, step). By default restep = F\n",
    "alse\r\n",
    "-> num : [int, optional] No. of samples to gen\n",
    "erate\r\n",
    "-> dtype : type of output array\n",
    " "
   ]
  },
  {
   "cell_type": "markdown",
   "id": "6028c9cb-085b-4093-8111-2d16ec075490",
   "metadata": {},
   "source": [
    "np.linspace(1,10,5)"
   ]
  },
  {
   "cell_type": "markdown",
   "id": "c55ff2ca-5455-459a-8d74-4d40dd5f407e",
   "metadata": {},
   "source": [
    "14) Flatten Function\n",
    "\n",
    "ndarray.faltten() function return a copy of the array collapsed into one dimension"
   ]
  },
  {
   "cell_type": "code",
   "execution_count": 9,
   "id": "54f35849-9d2f-475a-8c4e-ccc18b2afb8a",
   "metadata": {},
   "outputs": [
    {
     "name": "stdout",
     "output_type": "stream",
     "text": [
      "[[14 14 12  2]\n",
      " [ 6 11  2 13]\n",
      " [ 3  2  7 13]]\n",
      "(3, 4)\n",
      "[14 14 12  2  6 11  2 13  3  2  7 13]\n"
     ]
    }
   ],
   "source": [
    "arr=np.random.randint(1,15,(3,4))\n",
    "print(arr)\n",
    "print(arr.shape)\n",
    "arr=arr.flatten()\n",
    "print(arr)"
   ]
  },
  {
   "cell_type": "markdown",
   "id": "898f2b61-6252-4145-8910-3d367c13a0c2",
   "metadata": {},
   "source": [
    "15)Logspace Function\n",
    "\n",
    "The nupy.logspace()function returns number spaces evenly w.r.t imterval on a log scale."
   ]
  },
  {
   "cell_type": "markdown",
   "id": "dbbfa141-43f9-4f33-b538-27e40f06b525",
   "metadata": {},
   "source": [
    "Parameters :\r\n",
    "\r\n",
    "-> start : [float] start(base ** start) of interval range.\r\n",
    "-> stop : [float] end(base ** stop) of interval range\r\n",
    "-> endpoint : [boolean, optional]If True, stop is the last sample. By default, True\r\n",
    "-> num : [int, optional] No. of samples to generate\r\n",
    "-> base : [float, optional] Base of log scale. By default, equals 10.0\r\n",
    "-> dtype : type of output array"
   ]
  },
  {
   "cell_type": "code",
   "execution_count": 11,
   "id": "d850697e-06e6-4a47-88ca-8477b865c7b2",
   "metadata": {},
   "outputs": [
    {
     "name": "stdout",
     "output_type": "stream",
     "text": [
      "[  100.           166.81005372   278.25594022   464.15888336\n",
      "   774.26368268  1291.54966501  2154.43469003  3593.8136638\n",
      "  5994.84250319 10000.        ]\n"
     ]
    }
   ],
   "source": [
    "print(np.logspace(2,4,10))"
   ]
  },
  {
   "cell_type": "code",
   "execution_count": 12,
   "id": "15ba6a6c-cd17-4221-bfd9-98ec08e0eb94",
   "metadata": {},
   "outputs": [
    {
     "name": "stdout",
     "output_type": "stream",
     "text": [
      "[ 4.          4.66611616  5.44316     6.34960421  7.4069977   8.64047791\n",
      " 10.0793684  11.75787594 13.71590373 16.        ]\n"
     ]
    }
   ],
   "source": [
    "print(np.logspace(2,4,10,base=2))"
   ]
  },
  {
   "cell_type": "markdown",
   "id": "6c21696f-8863-4f6f-94a4-36036d1f102f",
   "metadata": {},
   "source": [
    "16) copy Function\n",
    "\n",
    "If we normally use the equals sign then the **id** of both the numpy array will be same, so we need to use to copy function"
   ]
  },
  {
   "cell_type": "code",
   "execution_count": 13,
   "id": "d5602313-21cd-47f1-8df1-e2e388988365",
   "metadata": {},
   "outputs": [
    {
     "name": "stdout",
     "output_type": "stream",
     "text": [
      "[12  8 13  2  6  4  1 14  6  7] 1511496774256\n",
      "[12  8 13  2  6  4  1 14  6  7] 1511496774256\n",
      "--------------------------------------------------\n",
      "[ 5 14  4  5  3 11 12 12 10 11] 1511496776368\n",
      "[ 5 14  4  5  3 11 12 12 10 11] 1511496775504\n"
     ]
    }
   ],
   "source": [
    "arr1 = np.random.randint(1,15,10)\n",
    "\n",
    "arr2 = arr1\n",
    "\n",
    "print(arr1, id(arr1))\n",
    "print(arr2, id(arr2))\n",
    "\n",
    "print('-'*50)\n",
    "\n",
    "arr1 = np.random.randint(1,15,10)\n",
    "arr2 = np.copy(arr1)\n",
    "\n",
    "print(arr1, id(arr1))\n",
    "print(arr2, id(arr2))"
   ]
  },
  {
   "cell_type": "markdown",
   "id": "cbd50a47-0229-4b6a-a493-6311318730c2",
   "metadata": {},
   "source": [
    "17) arr.max() ,  arr.min() ,     arr.sum() functions\n",
    "\n"
   ]
  },
  {
   "cell_type": "code",
   "execution_count": 14,
   "id": "03fc9b2b-0c87-4ad3-90bf-c63f6d23779a",
   "metadata": {},
   "outputs": [],
   "source": [
    "arr=np.random.randint(1,30,(3,5))"
   ]
  },
  {
   "cell_type": "code",
   "execution_count": 15,
   "id": "8c19184b-48c6-4ff7-9c5f-d1cc84f5cc86",
   "metadata": {},
   "outputs": [
    {
     "data": {
      "text/plain": [
       "array([[23,  8, 14, 15,  4],\n",
       "       [ 4, 24, 15, 28, 10],\n",
       "       [10,  1,  8,  3,  5]])"
      ]
     },
     "execution_count": 15,
     "metadata": {},
     "output_type": "execute_result"
    }
   ],
   "source": [
    "arr"
   ]
  },
  {
   "cell_type": "code",
   "execution_count": 21,
   "id": "b940901e-30bc-40de-a43c-01e2faad618a",
   "metadata": {},
   "outputs": [
    {
     "name": "stdout",
     "output_type": "stream",
     "text": [
      "max: 28\n"
     ]
    }
   ],
   "source": [
    "print('max:',arr.max())"
   ]
  },
  {
   "cell_type": "code",
   "execution_count": 22,
   "id": "a10e560f-0565-4817-bb2c-02b30b2e27c7",
   "metadata": {},
   "outputs": [
    {
     "name": "stdout",
     "output_type": "stream",
     "text": [
      "Min: 1\n"
     ]
    }
   ],
   "source": [
    "print('Min:',arr.min())"
   ]
  },
  {
   "cell_type": "code",
   "execution_count": 25,
   "id": "45d753d3-8e77-4def-b94e-b5b35a1e583c",
   "metadata": {},
   "outputs": [
    {
     "name": "stdout",
     "output_type": "stream",
     "text": [
      "Sum: 172\n"
     ]
    }
   ],
   "source": [
    "print('Sum:',arr.sum())"
   ]
  },
  {
   "cell_type": "markdown",
   "id": "80e2e702-4baf-4415-9b15-055b98b133f2",
   "metadata": {},
   "source": [
    "__We can use the axis parameter to get the max, min and sum of a particular column or row__\r\n",
    "\r\n",
    "axis=0 is for the colu\n",
    "mn\r\n",
    "axis=1 is for the row"
   ]
  },
  {
   "cell_type": "code",
   "execution_count": 26,
   "id": "738c9270-938a-4c00-814c-546abc3954c3",
   "metadata": {},
   "outputs": [],
   "source": [
    "# For columns"
   ]
  },
  {
   "cell_type": "code",
   "execution_count": 27,
   "id": "afb2a3c8-ecd1-4335-9738-9ef245cc6b9c",
   "metadata": {},
   "outputs": [
    {
     "name": "stdout",
     "output_type": "stream",
     "text": [
      "MAX :  [23 24 15 28 10]\n",
      "MIN :  [4 1 8 3 4]\n",
      "SUM :  [37 33 37 46 19]\n"
     ]
    }
   ],
   "source": [
    "print('MAX : ', arr.max(axis = 0))\n",
    "print('MIN : ', arr.min(axis = 0))\n",
    "print('SUM : ', arr.sum(axis = 0))"
   ]
  },
  {
   "cell_type": "code",
   "execution_count": 28,
   "id": "60b5bfdf-4199-4d9e-abcc-c39c294d00d8",
   "metadata": {},
   "outputs": [],
   "source": [
    "#Fow rows"
   ]
  },
  {
   "cell_type": "code",
   "execution_count": 29,
   "id": "a04e08ee-0cf0-43b0-914d-d17d823430fb",
   "metadata": {},
   "outputs": [
    {
     "name": "stdout",
     "output_type": "stream",
     "text": [
      "MAX :  [23 28 10]\n",
      "MIN :  [4 4 1]\n",
      "SUM :  [64 81 27]\n"
     ]
    }
   ],
   "source": [
    "print('MAX : ', arr.max(axis = 1))\n",
    "print('MIN : ', arr.min(axis = 1))\n",
    "print('SUM : ', arr.sum(axis = 1))\n"
   ]
  },
  {
   "cell_type": "markdown",
   "id": "d7e5d6ee-027b-425f-af3f-ae5cbb596173",
   "metadata": {},
   "source": [
    "18)Seed Function"
   ]
  },
  {
   "cell_type": "markdown",
   "id": "981cd509-267b-46d8-81ee-0a6cb571423c",
   "metadata": {},
   "source": [
    "random() function is used to generate random numbers in Python. Not actually random, rather this is used to generate pseudo-random numbers. That implies that these randomly generated numbers can be determined. random() function generates numbers for some values. This value is also called seed value."
   ]
  },
  {
   "cell_type": "markdown",
   "id": "f0ccd66f-8625-4575-b371-df5a9a02d2b0",
   "metadata": {},
   "source": [
    "Syntax : random.seed( l, version )<br>"
   ]
  },
  {
   "cell_type": "markdown",
   "id": "d3939b0e-73ba-4dbc-9024-242e2f2258e9",
   "metadata": {},
   "source": [
    "Parameter :\r\n",
    "\r\n",
    "l : Any seed value used to produce a random number.\r\n",
    "version : A integer used to specify how to convert l in a integer."
   ]
  },
  {
   "cell_type": "code",
   "execution_count": 34,
   "id": "eba0b1a8-b176-4d6f-ad85-98c87fd69cea",
   "metadata": {},
   "outputs": [
    {
     "data": {
      "text/plain": [
       "array([[9, 4, 9, 9, 1],\n",
       "       [6, 4, 6, 8, 7],\n",
       "       [1, 5, 8, 9, 2]])"
      ]
     },
     "execution_count": 34,
     "metadata": {},
     "output_type": "execute_result"
    }
   ],
   "source": [
    "np.random.seed(3)\n",
    "arr=np.random.randint(1,10,(3,5))\n",
    "arr"
   ]
  },
  {
   "cell_type": "markdown",
   "id": "f3c3af5e-9347-464d-a14a-e4da2dc55a9b",
   "metadata": {},
   "source": [
    "19) Sorting Function\n",
    "\n",
    "numpy.sort() : This function returns  a sorted copy of an array\n",
    "\n",
    "arr : Array to be sorted.\r\n",
    "axis : Axis along which we need array to be started.\r\n",
    "order : This argument specifies which fields to compare first.\r\n",
    "kind : [‘quicksort’{default}, ‘mergesort’, ‘heapsort’]Sorting algorithm."
   ]
  },
  {
   "cell_type": "code",
   "execution_count": 35,
   "id": "b5a4282e-978e-417f-a48d-7dbf93f1345f",
   "metadata": {},
   "outputs": [
    {
     "name": "stdout",
     "output_type": "stream",
     "text": [
      "---------------\n",
      "[[9 4 9 9 1]\n",
      " [6 4 6 8 7]\n",
      " [1 5 8 9 2]]\n",
      "---------------\n",
      "[[1 4 9 9 9]\n",
      " [4 6 6 7 8]\n",
      " [1 2 5 8 9]]\n",
      "---------------\n",
      "[[1 4 6 8 1]\n",
      " [6 4 8 9 2]\n",
      " [9 5 9 9 7]]\n",
      "---------------\n",
      "[[1 1 2 4 4]\n",
      " [5 6 6 7 8]\n",
      " [8 9 9 9 9]]\n",
      "---------------\n"
     ]
    }
   ],
   "source": [
    "np.random.seed(3)\n",
    "arr = np.random.randint(1,10,(3,5))\n",
    "\n",
    "\n",
    "print('-'*15)\n",
    "print(arr)\n",
    "print('-'*15)\n",
    "print(np.sort(arr, axis = 1))\n",
    "print('-'*15)\n",
    "print(np.sort(arr, axis = 0))\n",
    "print('-'*15)\n",
    "\n",
    "arr = np.reshape(np.sort(arr.flatten()), arr.shape)\n",
    "print(arr)\n",
    "print('-'*15)"
   ]
  },
  {
   "cell_type": "markdown",
   "id": "48850275-cfd3-4e9f-a725-c6d04bdcd5c2",
   "metadata": {},
   "source": [
    "__20.Mathematical operation__"
   ]
  },
  {
   "cell_type": "markdown",
   "id": "9707a5b5-a79f-43e6-82bd-f0c5e157ef66",
   "metadata": {},
   "source": [
    "__a) Addition__"
   ]
  },
  {
   "cell_type": "code",
   "execution_count": 38,
   "id": "d6f71c7f-000a-42d6-8a8f-de2da8dec521",
   "metadata": {},
   "outputs": [
    {
     "name": "stdout",
     "output_type": "stream",
     "text": [
      "---------------\n",
      "[[9 4 9 9 1]\n",
      " [6 4 6 8 7]\n",
      " [1 5 8 9 2]]\n",
      "---------------\n",
      "[[10  5 10 10  2]\n",
      " [ 7  5  7  9  8]\n",
      " [ 2  6  9 10  3]]\n",
      "---------------\n"
     ]
    }
   ],
   "source": [
    "np.random.seed(3)\n",
    "arr=np.random.randint(1,10,(3,5))\n",
    "\n",
    "print('-' * 15)\n",
    "print(arr)\n",
    "print('-' * 15)\n",
    "print(arr + 1)\n",
    "print('-' * 15)"
   ]
  },
  {
   "cell_type": "markdown",
   "id": "16023056-2e28-4eb0-bac0-6ace0efa23ae",
   "metadata": {},
   "source": [
    "__b) Substraction__"
   ]
  },
  {
   "cell_type": "code",
   "execution_count": 39,
   "id": "7be45fe7-866d-4791-948e-bbec8ea000d9",
   "metadata": {},
   "outputs": [
    {
     "name": "stdout",
     "output_type": "stream",
     "text": [
      "---------------\n",
      "[[9 4 9 9 1]\n",
      " [6 4 6 8 7]\n",
      " [1 5 8 9 2]]\n",
      "---------------\n",
      "[[8 3 8 8 0]\n",
      " [5 3 5 7 6]\n",
      " [0 4 7 8 1]]\n",
      "---------------\n"
     ]
    }
   ],
   "source": [
    "print('-' * 15)\n",
    "print(arr)\n",
    "print('-' * 15)\n",
    "print(arr - 1)\n",
    "print('-' * 15)"
   ]
  },
  {
   "cell_type": "markdown",
   "id": "df496f8c-6895-47de-bce4-f1496335141c",
   "metadata": {},
   "source": [
    "__c) Multiplication__"
   ]
  },
  {
   "cell_type": "code",
   "execution_count": 40,
   "id": "2c655795-51e6-4918-bfcd-8c81d75ce820",
   "metadata": {},
   "outputs": [
    {
     "name": "stdout",
     "output_type": "stream",
     "text": [
      "---------------\n",
      "[[9 4 9 9 1]\n",
      " [6 4 6 8 7]\n",
      " [1 5 8 9 2]]\n",
      "---------------\n",
      "[[18  8 18 18  2]\n",
      " [12  8 12 16 14]\n",
      " [ 2 10 16 18  4]]\n",
      "---------------\n"
     ]
    }
   ],
   "source": [
    "print('-' * 15)\n",
    "print(arr)\n",
    "print('-' * 15)\n",
    "print(arr * 2)\n",
    "\n",
    "print('-' * 15)\n"
   ]
  },
  {
   "cell_type": "code",
   "execution_count": 41,
   "id": "18ee9636-6350-4cc0-a5ea-90e73e2d6928",
   "metadata": {},
   "outputs": [],
   "source": [
    "#e matrix multiplicatiion"
   ]
  },
  {
   "cell_type": "code",
   "execution_count": 42,
   "id": "b57d1b66-d3cd-4b84-a9d5-e6af944ab69e",
   "metadata": {},
   "outputs": [],
   "source": [
    "# dot function or\n",
    "# the @ symbol"
   ]
  },
  {
   "cell_type": "code",
   "execution_count": 43,
   "id": "fc0d6ce2-1ee0-4eec-8794-091ea2fb9b76",
   "metadata": {},
   "outputs": [
    {
     "name": "stdout",
     "output_type": "stream",
     "text": [
      "[[ 25  78]\n",
      " [ 45 108]]\n",
      "------------\n",
      "[[ 25  78]\n",
      " [ 45 108]]\n"
     ]
    }
   ],
   "source": [
    "np.random.seed(3)\n",
    "\n",
    "arr1 = np.random.randint(1,10,(2,2))\n",
    "arr2 = np.random.randint(1,10,(2,2))\n",
    "\n",
    "print(arr1.dot(arr2))\n",
    "print('-'*12)\n",
    "print(arr1@arr2)"
   ]
  },
  {
   "cell_type": "markdown",
   "id": "c4e79e17-a559-4b45-9cb4-104634486e58",
   "metadata": {},
   "source": [
    "f) Power"
   ]
  },
  {
   "cell_type": "code",
   "execution_count": 44,
   "id": "3edbfdf4-2b95-4e22-b4c4-4570ef56c086",
   "metadata": {},
   "outputs": [
    {
     "name": "stdout",
     "output_type": "stream",
     "text": [
      "[[9 4 9 9 1]\n",
      " [6 4 6 8 7]\n",
      " [1 5 8 9 2]]\n",
      "---------------\n",
      "[[81 16 81 81  1]\n",
      " [36 16 36 64 49]\n",
      " [ 1 25 64 81  4]]\n"
     ]
    }
   ],
   "source": [
    "print(arr)\n",
    "print('-'*15)\n",
    "print(arr ** 2)\n"
   ]
  },
  {
   "cell_type": "markdown",
   "id": "103acfc4-c036-4bc7-989a-2eeed6c448e4",
   "metadata": {},
   "source": [
    "21. Percentile Function"
   ]
  },
  {
   "cell_type": "markdown",
   "id": "f344b338-ffec-42aa-8721-4a337991e682",
   "metadata": {},
   "source": [
    "numpy.percentile()function used to compute the nth percentile of the given data (array elements) along the specified axis"
   ]
  },
  {
   "cell_type": "code",
   "execution_count": 45,
   "id": "a001e7ee-fa39-4ae4-b0ee-842dca74a328",
   "metadata": {},
   "outputs": [
    {
     "name": "stdout",
     "output_type": "stream",
     "text": [
      "[9 4 9 9 1 6 4 6 8 7]\n",
      "[1 4 4 6 6 7 8 9 9 9]\n",
      "6.5\n"
     ]
    }
   ],
   "source": [
    "np.random.seed(3)\n",
    "\n",
    "arr = np.random.randint(1,10,10)\n",
    "print(arr)\n",
    "\n",
    "arr = np.sort(arr)\n",
    "print(arr)\n",
    "\n",
    "print(np.percentile(arr, 50))"
   ]
  },
  {
   "cell_type": "markdown",
   "id": "97c27b98-0a45-4c8c-8c0d-b4256b310a8e",
   "metadata": {},
   "source": [
    "22. Mean, Variance and Standard deviation\n",
    "\n",
    "\r\n",
    "In NumPy, we can compute the mean, standard deviation, and variance of a given array along the second axis by two approaches first is by using inbuilt functions and second is by the formulas of the mean, standard deviation, and variance."
   ]
  },
  {
   "cell_type": "code",
   "execution_count": 46,
   "id": "63a17ddf-23fb-4775-a445-1dfc6b84ea3a",
   "metadata": {},
   "outputs": [
    {
     "name": "stdout",
     "output_type": "stream",
     "text": [
      "[1 5 8 9 2 7 3 3 2 4]\n",
      "4.4\n",
      "6.839999999999999\n",
      "2.6153393661244038\n"
     ]
    }
   ],
   "source": [
    "arr = np.random.randint(1,10,10)\n",
    "\n",
    "print(arr)\n",
    "print(arr.mean())\n",
    "print(arr.var())\n",
    "print(arr.std())"
   ]
  },
  {
   "cell_type": "markdown",
   "id": "3152322f-dc06-4b51-8779-d1529c0bd369",
   "metadata": {},
   "source": [
    "23. Filtering an numpy array"
   ]
  },
  {
   "cell_type": "code",
   "execution_count": 47,
   "id": "7f71b67a-0377-4c8f-a253-82557c249849",
   "metadata": {},
   "outputs": [
    {
     "name": "stdout",
     "output_type": "stream",
     "text": [
      "[1 2 3 4 5 6 7 8 9]\n",
      "[ True  True  True  True False False False False False]\n",
      "[1 2 3 4]\n"
     ]
    }
   ],
   "source": [
    "arr = np.arange(1,10)\n",
    "\n",
    "print(arr)\n",
    "print(arr < 5)\n",
    "print(arr[arr < 5])"
   ]
  },
  {
   "cell_type": "code",
   "execution_count": 48,
   "id": "d5386143-cc7c-45a1-87a3-3824b9dcf4ce",
   "metadata": {},
   "outputs": [
    {
     "name": "stdout",
     "output_type": "stream",
     "text": [
      "[1 2 3 4]\n"
     ]
    }
   ],
   "source": [
    "arr2 = arr[arr < 5] \n",
    "print(arr2)"
   ]
  },
  {
   "cell_type": "code",
   "execution_count": 50,
   "id": "9790c411-3571-41e6-bc8d-d55f71244711",
   "metadata": {},
   "outputs": [
    {
     "data": {
      "text/plain": [
       "array([ 1,  2,  3,  4,  5, 10, 10, 10, 10])"
      ]
     },
     "execution_count": 50,
     "metadata": {},
     "output_type": "execute_result"
    }
   ],
   "source": [
    "arr[arr > 5] = 10\n",
    "\n",
    "arr"
   ]
  },
  {
   "cell_type": "markdown",
   "id": "b52bdb63-3d43-482c-b771-921021478fbb",
   "metadata": {},
   "source": [
    "25. Where function \r\n",
    "The numpy.where() function returns the indices of elements in an input array where the given condition is satisfied.\r\n",
    "\r\n",
    "Syntax :numpy.where(condition[, x, y]) Parameters: condition : When True, yield x, otherwise yield y. x, y : Values from which to choose. x, y and condition need to be broadcastable to some shape.\r\n",
    "\r\n",
    "Returns: out : [ndarray or tuple of ndarrays] If both x and y are specified, the output array contains elements of x where condition is True, and elements from y elsewhere.\r\n",
    "\r\n",
    "If only condition is given, return the tuple condition.nonzero(), the indices where condition is True."
   ]
  },
  {
   "cell_type": "code",
   "execution_count": 51,
   "id": "346b5203-9b72-47c0-aaf5-42be454bc7fb",
   "metadata": {},
   "outputs": [
    {
     "data": {
      "text/plain": [
       "array([91, 70, 98, 30, 25, 63,  8, 44, 34, 80])"
      ]
     },
     "execution_count": 51,
     "metadata": {},
     "output_type": "execute_result"
    }
   ],
   "source": [
    "arr = np.random.randint(1,100,10)\n",
    "arr"
   ]
  },
  {
   "cell_type": "code",
   "execution_count": 52,
   "id": "23428c55-64c8-416c-870b-83482f8cf003",
   "metadata": {},
   "outputs": [
    {
     "name": "stdout",
     "output_type": "stream",
     "text": [
      "[91 70 98 30 25 63  8 44 34 80]\n",
      "['91' 'even' 'even' 'even' '25' '63' 'even' 'even' 'even' 'even']\n",
      "['odd' '70' '98' '30' 'odd' 'odd' '8' '44' '34' '80']\n",
      "['odd' 'even' 'even' 'even' 'odd' 'odd' 'even' 'even' 'even' 'even']\n"
     ]
    }
   ],
   "source": [
    "print(arr)\n",
    "\n",
    "print(np.where(arr%2==0, 'even',arr))\n",
    "print(np.where(arr%2!=0, 'odd',arr))\n",
    "\n",
    "arr1 = np.where(arr%2==0, 'even',arr)\n",
    "arr1 = np.where(arr%2!=0, 'odd',arr1)\n",
    "\n",
    "print(arr1)"
   ]
  },
  {
   "cell_type": "markdown",
   "id": "64b8a5c6-b36f-4c5a-a899-a07704547a41",
   "metadata": {},
   "source": [
    "26. Merging Arrays"
   ]
  },
  {
   "cell_type": "markdown",
   "id": "f7d6e164-09f8-438d-96dd-1447c52c70a4",
   "metadata": {},
   "source": [
    "a) Concatenate\n",
    "\n",
    "\r\n",
    "We can perform the concatenation operation using the concatenate() function. With this function, arrays are concatenated either row-wise or column-wise, given that they have equal rows or columns respectively. Column-wise concatenation can be done by equating axis to 1 as an argument in the function."
   ]
  },
  {
   "cell_type": "code",
   "execution_count": 53,
   "id": "af155db1-bd03-423a-aa90-80f563248072",
   "metadata": {},
   "outputs": [
    {
     "name": "stdout",
     "output_type": "stream",
     "text": [
      "[[1 6 5 2]\n",
      " [6 5 8 7]]\n",
      "---------------\n",
      "[[1 1 3 5]\n",
      " [6 9 9 8]]\n",
      "------------------------------\n",
      "[[1 6 5 2]\n",
      " [6 5 8 7]\n",
      " [1 1 3 5]\n",
      " [6 9 9 8]]\n",
      "------------------------------\n",
      "[[1 6 5 2 1 1 3 5]\n",
      " [6 5 8 7 6 9 9 8]]\n"
     ]
    }
   ],
   "source": [
    "arr1 = np.random.randint(1,10,(2,4))\n",
    "arr2 = np.random.randint(1,10,(2,4))\n",
    "\n",
    "print(arr1)\n",
    "print('-'*15)\n",
    "print(arr2)\n",
    "\n",
    "print('-'*30)\n",
    "print(np.concatenate((arr1,arr2), axis = 0))\n",
    "print('-'*30)\n",
    "print(np.concatenate((arr1,arr2), axis = 1))"
   ]
  },
  {
   "cell_type": "markdown",
   "id": "28d84305-d812-4d2d-aaec-ee690ad1b757",
   "metadata": {},
   "source": [
    "b) Vstack and Hstack"
   ]
  },
  {
   "cell_type": "markdown",
   "id": "93b246c5-6f3a-4e6f-b6f8-f95e7e6d9d63",
   "metadata": {},
   "source": [
    "numpy.hstack() function is used to stack the sequence of input arrays horizontally (i.e. column wise) to make a single array"
   ]
  },
  {
   "cell_type": "markdown",
   "id": "816f8870-1e24-4e36-8b89-0fce98eeea81",
   "metadata": {},
   "source": [
    "arr1 = np.random.randint(1,10,(2,4))\n",
    "arr2 = np.random.randint(1,10,(2,4))\n",
    "\n",
    "print(arr1)\n",
    "print('-'*15)\n",
    "print(arr2)\n",
    "print('-'*15)\n",
    "\n",
    "print(np.hstack((arr1,arr2)))"
   ]
  },
  {
   "cell_type": "markdown",
   "id": "617c4ada-d783-4aad-89b7-0a25cad5e247",
   "metadata": {},
   "source": [
    "27. Splitting Arrays"
   ]
  },
  {
   "cell_type": "code",
   "execution_count": 56,
   "id": "d9ef7bab-21a7-4d61-800e-75b5fa9df1a6",
   "metadata": {},
   "outputs": [
    {
     "name": "stdout",
     "output_type": "stream",
     "text": [
      "[[1 6 1 2]\n",
      " [5 2 3 3]\n",
      " [5 9 1 7]\n",
      " [1 5 2 6]]\n"
     ]
    }
   ],
   "source": [
    "arr = np.random.randint(1,10,(4,4))\n",
    "\n",
    "print(arr)"
   ]
  },
  {
   "cell_type": "markdown",
   "id": "2bc9527f-cccc-4d51-ac12-08c19775d8ff",
   "metadata": {},
   "source": [
    "numpy.vsplit() function split an array into multiple sub-arrays vertically (row-wise). vsplit is equivalent to split with axis=0 (default), the array is always split along the first axis regardless of the array dimension."
   ]
  },
  {
   "cell_type": "code",
   "execution_count": 57,
   "id": "82850c2a-d1c2-4720-995c-c83510a1a3c2",
   "metadata": {},
   "outputs": [
    {
     "data": {
      "text/plain": [
       "[array([[1, 6, 1, 2],\n",
       "        [5, 2, 3, 3]]),\n",
       " array([[5, 9, 1, 7],\n",
       "        [1, 5, 2, 6]])]"
      ]
     },
     "execution_count": 57,
     "metadata": {},
     "output_type": "execute_result"
    }
   ],
   "source": [
    "np.vsplit(arr, 2)"
   ]
  },
  {
   "cell_type": "markdown",
   "id": "c3745cd3-3c8b-44f5-93eb-c3601ed282e6",
   "metadata": {},
   "source": [
    "numpy.hsplit() function split an array into multiple sub-arrays horizontally (column-wise). hsplit is equivalent to split with axis=1, the array is always split along the second axis regardless of the array dimension."
   ]
  },
  {
   "cell_type": "code",
   "execution_count": 58,
   "id": "1214a5fe-d8a2-495f-8f02-ea6d10f74f45",
   "metadata": {},
   "outputs": [
    {
     "data": {
      "text/plain": [
       "[array([[1, 6],\n",
       "        [5, 2],\n",
       "        [5, 9],\n",
       "        [1, 5]]),\n",
       " array([[1, 2],\n",
       "        [3, 3],\n",
       "        [1, 7],\n",
       "        [2, 6]])]"
      ]
     },
     "execution_count": 58,
     "metadata": {},
     "output_type": "execute_result"
    }
   ],
   "source": [
    "np.hsplit(arr, 2)"
   ]
  },
  {
   "cell_type": "code",
   "execution_count": null,
   "id": "a90efb25-a12b-4146-b944-e3249e8d74ba",
   "metadata": {},
   "outputs": [],
   "source": []
  }
 ],
 "metadata": {
  "kernelspec": {
   "display_name": "Python 3 (ipykernel)",
   "language": "python",
   "name": "python3"
  },
  "language_info": {
   "codemirror_mode": {
    "name": "ipython",
    "version": 3
   },
   "file_extension": ".py",
   "mimetype": "text/x-python",
   "name": "python",
   "nbconvert_exporter": "python",
   "pygments_lexer": "ipython3",
   "version": "3.12.0"
  }
 },
 "nbformat": 4,
 "nbformat_minor": 5
}
